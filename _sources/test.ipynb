{
 "cells": [
  {
   "cell_type": "markdown",
   "id": "9ccab77d-783f-4048-b178-44fe3dfcad4f",
   "metadata": {},
   "source": [
    "# This is a title\n",
    "\n",
    "## Section 1!\n",
    "<img src=\"csrsr_logo.png\" alt=\"Alternative text\" />\n",
    "\n",
    "## Section 2\n",
    "$ E = \\epsilon\\sigma AT^4 $\n",
    "\n",
    "### Section 2.1\n",
    "``` python\n",
    "#### This sample code was auto-generated using Bing's ChatGPT AI (GPT-4).\n",
    "\n",
    "import numpy as np\n",
    "from scipy import optimize\n",
    "\n",
    "# Define the function that we want to fit\n",
    "def test_func(x, a, b):\n",
    "    return a * np.sin(b * x)\n",
    "\n",
    "# Generate some data with noise to fit\n",
    "x_data = np.linspace(0, 4 * np.pi, 100)\n",
    "y_data = 3.0 * np.sin(1.5 * x_data) + 0.5 * np.random.normal(size=100)\n",
    "\n",
    "# Fit the data with the function\n",
    "params, params_covariance = optimize.curve_fit(test_func, x_data, y_data, p0=[2, 2])\n",
    "\n",
    "# Print the results\n",
    "print(params)\n",
    "```\n",
    "\n",
    "This is a link for further [information](https://whyjz.github.io/ncu-open-science/handson/H4-Narrative.html#narrative-science)"
   ]
  },
  {
   "cell_type": "code",
   "execution_count": null,
   "id": "37fe7419-0166-48e0-93ec-02a69029fe59",
   "metadata": {},
   "outputs": [],
   "source": []
  }
 ],
 "metadata": {
  "kernelspec": {
   "display_name": "Python 3 (ipykernel)",
   "language": "python",
   "name": "python3"
  },
  "language_info": {
   "codemirror_mode": {
    "name": "ipython",
    "version": 3
   },
   "file_extension": ".py",
   "mimetype": "text/x-python",
   "name": "python",
   "nbconvert_exporter": "python",
   "pygments_lexer": "ipython3",
   "version": "3.10.8"
  }
 },
 "nbformat": 4,
 "nbformat_minor": 5
}
