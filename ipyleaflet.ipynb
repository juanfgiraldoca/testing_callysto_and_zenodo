{
 "cells": [
  {
   "cell_type": "code",
   "execution_count": null,
   "id": "ea905781-bfc7-4a16-8ab6-ee2e78702e75",
   "metadata": {},
   "outputs": [],
   "source": [
    "#### This sample code was modified from ipyleaflet's demo examples.\n",
    "from ipyleaflet import Map, basemaps, basemap_to_tiles, Marker\n",
    "\n",
    "center = (24.9677, 121.1870)\n",
    "\n",
    "m = Map(\n",
    "    basemap=basemap_to_tiles(basemaps.OpenStreetMap.Mapnik),\n",
    "    center=center,\n",
    "    zoom=15\n",
    "    )\n",
    "marker = Marker(location=center, draggable=False)\n",
    "m.add_layer(marker);\n",
    "m"
   ]
  },
  {
   "cell_type": "code",
   "execution_count": null,
   "id": "c5af34d0-6c21-472d-adf7-a3ab818dfa29",
   "metadata": {},
   "outputs": [],
   "source": []
  }
 ],
 "metadata": {
  "kernelspec": {
   "display_name": "Python 3 (ipykernel)",
   "language": "python",
   "name": "python3"
  },
  "language_info": {
   "codemirror_mode": {
    "name": "ipython",
    "version": 3
   },
   "file_extension": ".py",
   "mimetype": "text/x-python",
   "name": "python",
   "nbconvert_exporter": "python",
   "pygments_lexer": "ipython3",
   "version": "3.10.8"
  }
 },
 "nbformat": 4,
 "nbformat_minor": 5
}
